{
 "cells": [
  {
   "cell_type": "code",
   "execution_count": 5,
   "metadata": {},
   "outputs": [],
   "source": [
    "import pandas as pd\n",
    "import io\n",
    "import tensorflow as ts\n",
    "import nltk\n",
    "import matplotlib.pyplot as plt\n",
    "import numpy as np\n",
    "import pickle as pk\n",
    "import joblib\n",
    "#from google.colab import files\n",
    "from keras.layers import *\n",
    "from keras.models import Model, Sequential\n",
    "from keras.preprocessing.text import Tokenizer \n",
    "from keras.utils import pad_sequences\n",
    "from sklearn.preprocessing import StandardScaler #Standardize function\n",
    "from sklearn.preprocessing import MinMaxScaler #Normalize function\n",
    "from sklearn.model_selection import train_test_split\n",
    "from sklearn.linear_model import LogisticRegression\n",
    "from sklearn.metrics import classification_report, confusion_matrix"
   ]
  },
  {
   "cell_type": "code",
   "execution_count": 6,
   "metadata": {},
   "outputs": [],
   "source": [
    "df = pd.read_excel(r'C:\\Users\\taquo\\name.xlsx') #Import uploaded into dataframe"
   ]
  },
  {
   "cell_type": "code",
   "execution_count": 4,
   "metadata": {},
   "outputs": [
    {
     "name": "stdout",
     "output_type": "stream",
     "text": [
      "         FM_NAME  GENDER\n",
      "0        mẫn nhi       0\n",
      "1        mai chi       0\n",
      "2  ngọc kiều anh       0\n",
      "3  thị minh hiếu       0\n",
      "4      diệu linh       0\n"
     ]
    }
   ],
   "source": [
    "print(df.head())"
   ]
  },
  {
   "cell_type": "code",
   "execution_count": 5,
   "metadata": {},
   "outputs": [
    {
     "name": "stdout",
     "output_type": "stream",
     "text": [
      "<class 'pandas.core.frame.DataFrame'>\n",
      "RangeIndex: 804210 entries, 0 to 804209\n",
      "Data columns (total 2 columns):\n",
      " #   Column   Non-Null Count   Dtype \n",
      "---  ------   --------------   ----- \n",
      " 0   FM_NAME  804209 non-null  object\n",
      " 1   GENDER   804210 non-null  int64 \n",
      "dtypes: int64(1), object(1)\n",
      "memory usage: 12.3+ MB\n"
     ]
    }
   ],
   "source": [
    "df.info()"
   ]
  },
  {
   "cell_type": "code",
   "execution_count": 6,
   "metadata": {},
   "outputs": [
    {
     "data": {
      "text/plain": [
       "1    490352\n",
       "0    313858\n",
       "Name: GENDER, dtype: int64"
      ]
     },
     "execution_count": 6,
     "metadata": {},
     "output_type": "execute_result"
    }
   ],
   "source": [
    "df['GENDER'].value_counts()"
   ]
  },
  {
   "cell_type": "code",
   "execution_count": 7,
   "metadata": {},
   "outputs": [
    {
     "data": {
      "text/plain": [
       "<PandasArray>\n",
       "[        'mẫn nhi',         'mai chi',   'ngọc kiều anh',   'thị minh hiếu',\n",
       "       'diệu linh', 'thị phương thảo', 'hoàng linh ngọc',  'thị tuyết ngân',\n",
       " 'thị quỳnh trang',    'thị mỹ duyên',\n",
       " ...\n",
       "        'tuấn anh',       'văn hoàng',        'sơn tùng',      'quang hùng',\n",
       "        'đình tài',        'hữu nhân',        'hồng sơn',      'văn nguyện',\n",
       "       'huy dương',          'văn tú']\n",
       "Length: 804210, dtype: object"
      ]
     },
     "execution_count": 7,
     "metadata": {},
     "output_type": "execute_result"
    }
   ],
   "source": [
    "df['FM_NAME'] = df['FM_NAME'].str.lower()\n",
    "name_arr = pd.array(df['FM_NAME'])\n",
    "name_arr"
   ]
  },
  {
   "cell_type": "code",
   "execution_count": 8,
   "metadata": {},
   "outputs": [],
   "source": [
    "embedding_dim = 3\n",
    "voc_size = 10000\n",
    "max_len = 5"
   ]
  },
  {
   "cell_type": "code",
   "execution_count": 9,
   "metadata": {},
   "outputs": [
    {
     "data": {
      "text/plain": [
       "<PandasArray>\n",
       "[        'mẫn nhi',         'mai chi',   'ngọc kiều anh',   'thị minh hiếu',\n",
       "       'diệu linh', 'thị phương thảo', 'hoàng linh ngọc',  'thị tuyết ngân',\n",
       " 'thị quỳnh trang',    'thị mỹ duyên',\n",
       " ...\n",
       "        'tuấn anh',       'văn hoàng',        'sơn tùng',      'quang hùng',\n",
       "        'đình tài',        'hữu nhân',        'hồng sơn',      'văn nguyện',\n",
       "       'huy dương',          'văn tú']\n",
       "Length: 804210, dtype: object"
      ]
     },
     "execution_count": 9,
     "metadata": {},
     "output_type": "execute_result"
    }
   ],
   "source": [
    "name_arr"
   ]
  },
  {
   "cell_type": "code",
   "execution_count": 9,
   "metadata": {},
   "outputs": [
    {
     "data": {
      "text/plain": [
       "6637"
      ]
     },
     "execution_count": 9,
     "metadata": {},
     "output_type": "execute_result"
    }
   ],
   "source": [
    "tokenizer = Tokenizer(num_words = voc_size, oov_token = \"<OOV>\")\n",
    "tokenizer.fit_on_texts(name_arr[0:600000])\n",
    "word_index =tokenizer.word_index\n",
    "len(word_index)"
   ]
  },
  {
   "cell_type": "code",
   "execution_count": 11,
   "metadata": {},
   "outputs": [],
   "source": [
    "wordtovec_name_arr = tokenizer.texts_to_sequences(name_arr[0:600000])"
   ]
  },
  {
   "cell_type": "code",
   "execution_count": 12,
   "metadata": {},
   "outputs": [
    {
     "data": {
      "text/html": [
       "<div>\n",
       "<style scoped>\n",
       "    .dataframe tbody tr th:only-of-type {\n",
       "        vertical-align: middle;\n",
       "    }\n",
       "\n",
       "    .dataframe tbody tr th {\n",
       "        vertical-align: top;\n",
       "    }\n",
       "\n",
       "    .dataframe thead th {\n",
       "        text-align: right;\n",
       "    }\n",
       "</style>\n",
       "<table border=\"1\" class=\"dataframe\">\n",
       "  <thead>\n",
       "    <tr style=\"text-align: right;\">\n",
       "      <th></th>\n",
       "      <th>0</th>\n",
       "      <th>1</th>\n",
       "      <th>2</th>\n",
       "      <th>3</th>\n",
       "      <th>4</th>\n",
       "      <th>GENDER</th>\n",
       "    </tr>\n",
       "  </thead>\n",
       "  <tbody>\n",
       "    <tr>\n",
       "      <th>0</th>\n",
       "      <td>258</td>\n",
       "      <td>55</td>\n",
       "      <td>0</td>\n",
       "      <td>0</td>\n",
       "      <td>0</td>\n",
       "      <td>0</td>\n",
       "    </tr>\n",
       "    <tr>\n",
       "      <th>1</th>\n",
       "      <td>31</td>\n",
       "      <td>100</td>\n",
       "      <td>0</td>\n",
       "      <td>0</td>\n",
       "      <td>0</td>\n",
       "      <td>0</td>\n",
       "    </tr>\n",
       "    <tr>\n",
       "      <th>2</th>\n",
       "      <td>4</td>\n",
       "      <td>68</td>\n",
       "      <td>6</td>\n",
       "      <td>0</td>\n",
       "      <td>0</td>\n",
       "      <td>0</td>\n",
       "    </tr>\n",
       "    <tr>\n",
       "      <th>3</th>\n",
       "      <td>2</td>\n",
       "      <td>7</td>\n",
       "      <td>43</td>\n",
       "      <td>0</td>\n",
       "      <td>0</td>\n",
       "      <td>0</td>\n",
       "    </tr>\n",
       "    <tr>\n",
       "      <th>4</th>\n",
       "      <td>113</td>\n",
       "      <td>12</td>\n",
       "      <td>0</td>\n",
       "      <td>0</td>\n",
       "      <td>0</td>\n",
       "      <td>0</td>\n",
       "    </tr>\n",
       "  </tbody>\n",
       "</table>\n",
       "</div>"
      ],
      "text/plain": [
       "     0    1   2  3  4  GENDER\n",
       "0  258   55   0  0  0       0\n",
       "1   31  100   0  0  0       0\n",
       "2    4   68   6  0  0       0\n",
       "3    2    7  43  0  0       0\n",
       "4  113   12   0  0  0       0"
      ]
     },
     "execution_count": 12,
     "metadata": {},
     "output_type": "execute_result"
    }
   ],
   "source": [
    "wordtovec_df = pd.DataFrame(pad_sequences(wordtovec_name_arr, maxlen = max_len, truncating = 'post', padding = 'post'))\n",
    "wordtovec_df  = pd.DataFrame(wordtovec_df)\n",
    "#wordtovec_df .columns = [\"Val\", \"Val1\", \"Val2\"]\n",
    "wordtovec_df ['GENDER'] = df['GENDER'][0:600000]\n",
    "wordtovec_df.head()"
   ]
  },
  {
   "cell_type": "code",
   "execution_count": 13,
   "metadata": {},
   "outputs": [],
   "source": [
    "X = wordtovec_df.iloc[:,[0,1,2,3,4]]\n",
    "y=wordtovec_df['GENDER']\n",
    "# using the train test split function\n",
    "X_train, X_test,y_train, y_test = train_test_split(X,y ,random_state=104, test_size=0.25,shuffle=True)"
   ]
  },
  {
   "cell_type": "code",
   "execution_count": 14,
   "metadata": {},
   "outputs": [
    {
     "name": "stdout",
     "output_type": "stream",
     "text": [
      "Model: \"sequential\"\n",
      "_________________________________________________________________\n",
      " Layer (type)                Output Shape              Param #   \n",
      "=================================================================\n",
      " embedding (Embedding)       (None, 5, 3)              30000     \n",
      "                                                                 \n",
      " flatten (Flatten)           (None, 15)                0         \n",
      "                                                                 \n",
      " dense (Dense)               (None, 10)                160       \n",
      "                                                                 \n",
      " dense_1 (Dense)             (None, 1)                 11        \n",
      "                                                                 \n",
      "=================================================================\n",
      "Total params: 30,171\n",
      "Trainable params: 30,171\n",
      "Non-trainable params: 0\n",
      "_________________________________________________________________\n"
     ]
    }
   ],
   "source": [
    "model = Sequential()\n",
    "model.add(Embedding(voc_size, embedding_dim, input_length = max_len))\n",
    "model.add(Flatten())\n",
    "model.add(Dense(10, activation = 'relu'))\n",
    "model.add(Dense(1, activation = 'sigmoid'))\n",
    "model.compile(loss = 'binary_crossentropy', optimizer = 'adam', metrics = ['acc'])\n",
    "model.summary()"
   ]
  },
  {
   "cell_type": "code",
   "execution_count": 17,
   "metadata": {},
   "outputs": [
    {
     "name": "stdout",
     "output_type": "stream",
     "text": [
      "Epoch 1/10\n",
      "14063/14063 [==============================] - 63s 5ms/step - loss: 0.0711 - acc: 0.9735 - val_loss: 0.0766 - val_acc: 0.9709\n",
      "Epoch 2/10\n",
      "14063/14063 [==============================] - 62s 4ms/step - loss: 0.0708 - acc: 0.9737 - val_loss: 0.0761 - val_acc: 0.9712\n",
      "Epoch 3/10\n",
      "14063/14063 [==============================] - 65s 5ms/step - loss: 0.0706 - acc: 0.9737 - val_loss: 0.0764 - val_acc: 0.9709\n",
      "Epoch 4/10\n",
      "14063/14063 [==============================] - 80s 6ms/step - loss: 0.0704 - acc: 0.9738 - val_loss: 0.0764 - val_acc: 0.9711\n",
      "Epoch 5/10\n",
      "14063/14063 [==============================] - 69s 5ms/step - loss: 0.0703 - acc: 0.9738 - val_loss: 0.0767 - val_acc: 0.9707\n",
      "Epoch 6/10\n",
      "14063/14063 [==============================] - 68s 5ms/step - loss: 0.0700 - acc: 0.9739 - val_loss: 0.0760 - val_acc: 0.9712\n",
      "Epoch 7/10\n",
      "14063/14063 [==============================] - 66s 5ms/step - loss: 0.0699 - acc: 0.9740 - val_loss: 0.0765 - val_acc: 0.9710\n",
      "Epoch 8/10\n",
      "14063/14063 [==============================] - 67s 5ms/step - loss: 0.0698 - acc: 0.9740 - val_loss: 0.0762 - val_acc: 0.9712\n",
      "Epoch 9/10\n",
      "14063/14063 [==============================] - 69s 5ms/step - loss: 0.0696 - acc: 0.9741 - val_loss: 0.0760 - val_acc: 0.9712\n",
      "Epoch 10/10\n",
      "14063/14063 [==============================] - 83s 6ms/step - loss: 0.0694 - acc: 0.9742 - val_loss: 0.0762 - val_acc: 0.9711\n"
     ]
    }
   ],
   "source": [
    "history = model.fit(X_train, y_train, epochs = 10, validation_data = (X_test, y_test))"
   ]
  },
  {
   "cell_type": "code",
   "execution_count": 24,
   "metadata": {},
   "outputs": [
    {
     "data": {
      "image/png": "[encoded data removed]",
      "text/plain": [
       "<Figure size 640x480 with 1 Axes>"
      ]
     },
     "metadata": {},
     "output_type": "display_data"
    }
   ],
   "source": [
    "\n",
    "plt.plot(history.history['acc'])\n",
    "plt.plot(history.history['val_acc'])\n",
    "plt.title('model accuracy')\n",
    "plt.ylabel('accuracy')\n",
    "plt.xlabel('epoch')\n",
    "plt.legend(['train', 'val'], loc='upper left')\n",
    "plt.show()"
   ]
  },
  {
   "cell_type": "code",
   "execution_count": 25,
   "metadata": {},
   "outputs": [
    {
     "data": {
      "image/png": "[encoded data removed]",
      "text/plain": [
       "<Figure size 640x480 with 1 Axes>"
      ]
     },
     "metadata": {},
     "output_type": "display_data"
    }
   ],
   "source": [
    "plt.plot(history.history['loss'])\n",
    "plt.plot(history.history['val_loss'])\n",
    "plt.title('model loss')\n",
    "plt.ylabel('loss')\n",
    "plt.xlabel('epoch')\n",
    "plt.legend(['train', 'val'], loc='upper left')\n",
    "plt.show()"
   ]
  },
  {
   "cell_type": "code",
   "execution_count": 19,
   "metadata": {},
   "outputs": [],
   "source": [
    "from matplotlib import pyplot as plt"
   ]
  },
  {
   "cell_type": "code",
   "execution_count": 43,
   "metadata": {},
   "outputs": [
    {
     "name": "stdout",
     "output_type": "stream",
     "text": [
      "Keras model archive loading:\n",
      "File Name                                             Modified             Size\n",
      "config.json                                    2023-01-24 12:54:50         1913\n",
      "metadata.json                                  2023-01-24 12:54:50           64\n",
      "variables.h5                                   2023-01-24 12:54:50       386232\n",
      "Keras weights file (<HDF5 file \"variables.h5\" (mode r)>) loading:\n",
      "...layers\\dense\n",
      "......vars\n",
      ".........0\n",
      ".........1\n",
      "...layers\\dense_1\n",
      "......vars\n",
      ".........0\n",
      ".........1\n",
      "...layers\\embedding\n",
      "......vars\n",
      ".........0\n",
      "...layers\\flatten\n",
      "......vars\n",
      "...metrics\\mean\n",
      "......vars\n",
      ".........0\n",
      ".........1\n",
      "...metrics\\mean_metric_wrapper\n",
      "......vars\n",
      ".........0\n",
      ".........1\n",
      "...optimizer\n",
      "......vars\n",
      ".........0\n",
      ".........1\n",
      ".........10\n",
      ".........2\n",
      ".........3\n",
      ".........4\n",
      ".........5\n",
      ".........6\n",
      ".........7\n",
      ".........8\n",
      ".........9\n",
      "...vars\n"
     ]
    }
   ],
   "source": [
    "# Savin the model as a pickle in a file\n",
    "joblib.dump(model, 'gender_predict_by_name_model.pkl')\n",
    "import pickle\n",
    "# saving\n",
    "with open('tokenizer.pickle', 'wb') as handle:\n",
    "    pickle.dump(tokenizer, handle, protocol=pickle.HIGHEST_PROTOCOL)\n",
    "# loading\n",
    "with open('tokenizer.pickle', 'rb') as handle:\n",
    "    tokenizer = pickle.load(handle)\n",
    "# Read model from *pkl file   \n",
    "model = joblib.load('gender_predict_by_name_model.pkl')"
   ]
  },
  {
   "cell_type": "code",
   "execution_count": 44,
   "metadata": {},
   "outputs": [],
   "source": [
    "def predict_gender_by_name(name):\n",
    "  embedding_dim = 3\n",
    "  voc_size = 10000\n",
    "  max_len = 5\n",
    "  wordtovec_test= tokenizer.texts_to_sequences([name])\n",
    "  wordtovec_test = pd.DataFrame(pad_sequences(wordtovec_test, maxlen = max_len, truncating = 'post', padding = 'post'))\n",
    "  wordtovec_test\n",
    "  result = model.predict(wordtovec_test)\n",
    "  if (result < 0.5):\n",
    "    print(\"Gender of name is: Female ( Output level: \", result*100, \")\")\n",
    "  else :\n",
    "    print(\"Gender of name is: Male ( Output level: \", result*100,\")\")\n"
   ]
  },
  {
   "cell_type": "code",
   "execution_count": 11,
   "metadata": {},
   "outputs": [
    {
     "ename": "NameError",
     "evalue": "name 'predict_gender_by_name' is not defined",
     "output_type": "error",
     "traceback": [
      "\u001b[1;31m---------------------------------------------------------------------------\u001b[0m",
      "\u001b[1;31mNameError\u001b[0m                                 Traceback (most recent call last)",
      "Cell \u001b[1;32mIn[11], line 1\u001b[0m\n\u001b[1;32m----> 1\u001b[0m predict_gender_by_name(\u001b[39m\"\u001b[39m\u001b[39mKhánh Tạ\u001b[39m\u001b[39m\"\u001b[39m)\n",
      "\u001b[1;31mNameError\u001b[0m: name 'predict_gender_by_name' is not defined"
     ]
    }
   ],
   "source": [
    "predict_gender_by_name(\"Khánh Tạ\")"
   ]
  }
 ],
 "metadata": {
  "kernelspec": {
   "display_name": "Python 3",
   "language": "python",
   "name": "python3"
  },
  "language_info": {
   "codemirror_mode": {
    "name": "ipython",
    "version": 3
   },
   "file_extension": ".py",
   "mimetype": "text/x-python",
   "name": "python",
   "nbconvert_exporter": "python",
   "pygments_lexer": "ipython3",
   "version": "3.10.8"
  },
  "orig_nbformat": 4,
  "vscode": {
   "interpreter": {
    "hash": "21d0d0326d30618992828e3049138d50b8878710c9964f1568fa9cbac558aa7e"
   }
  }
 },
 "nbformat": 4,
 "nbformat_minor": 2
}
